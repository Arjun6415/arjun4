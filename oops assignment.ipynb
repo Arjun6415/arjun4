{
 "cells": [
  {
   "cell_type": "code",
   "execution_count": null,
   "id": "83afc251-1176-41f9-a7b5-ec924e6f9153",
   "metadata": {},
   "outputs": [],
   "source": [
    "Ans1."
   ]
  },
  {
   "cell_type": "code",
   "execution_count": null,
   "id": "1ae7c149-a1da-4f8b-92b4-260271d4eba8",
   "metadata": {},
   "outputs": [],
   "source": [
    "Class is a classification of the real world entity,class is a blue print not a real world.\n",
    "object is real world entity."
   ]
  },
  {
   "cell_type": "code",
   "execution_count": 8,
   "id": "5e4a7efc-a96e-4f36-880d-4ceb58b0f6fc",
   "metadata": {},
   "outputs": [],
   "source": [
    "#example of class\n",
    "class pwskills():\n",
    "    def msg(self):\n",
    "        print(\"welcome to the pwskills\")\n",
    "        \n",
    "    "
   ]
  },
  {
   "cell_type": "code",
   "execution_count": 10,
   "id": "ceb6efc9-4977-4478-9e1b-56ec5397fa83",
   "metadata": {},
   "outputs": [],
   "source": [
    "#example of object\n",
    "arjun=pwskills()"
   ]
  },
  {
   "cell_type": "code",
   "execution_count": null,
   "id": "a7df9468-3d6c-4501-84f2-ffc6ed43b8e1",
   "metadata": {},
   "outputs": [],
   "source": [
    "Ans2."
   ]
  },
  {
   "cell_type": "code",
   "execution_count": null,
   "id": "9859453f-9c5b-4e69-a0ba-0bf8e2787b8e",
   "metadata": {},
   "outputs": [],
   "source": [
    "There are 4 pillars of OOPs\n",
    "1. Inheritance\n",
    "2. Polymorphism\n",
    "3. Encapsulation\n",
    "4. Abstraction"
   ]
  },
  {
   "cell_type": "code",
   "execution_count": null,
   "id": "798a03a9-4a68-4e29-a829-0bfc42f322e7",
   "metadata": {},
   "outputs": [],
   "source": [
    "Ans3."
   ]
  },
  {
   "cell_type": "code",
   "execution_count": null,
   "id": "c282c273-d362-498b-bc96-5ca89c29d002",
   "metadata": {},
   "outputs": [],
   "source": [
    "__init__ function is used for initialisation.\n",
    "init function is a in built function and also called as constructor."
   ]
  },
  {
   "cell_type": "code",
   "execution_count": 17,
   "id": "02548b69-5bb9-4d78-ac75-5486e0431b44",
   "metadata": {},
   "outputs": [],
   "source": [
    "#example \n",
    "class pwskills1():\n",
    "    def __init__(self,phone_num,email_id,student_id):\n",
    "        self.phone_num=phone_num\n",
    "        self.email_id=email_id\n",
    "        self.student_id=student_id\n",
    "    def return_student_details(self):\n",
    "        return self.phone_num,self.email_id,self.student_id\n",
    "    "
   ]
  },
  {
   "cell_type": "code",
   "execution_count": 18,
   "id": "3141ceb2-553e-4404-b3e0-657b24c17774",
   "metadata": {},
   "outputs": [],
   "source": [
    "arjun=pwskills1(67898907,\"ar34@gmail.com\",2001)"
   ]
  },
  {
   "cell_type": "code",
   "execution_count": 19,
   "id": "b1761ade-b81f-4e8f-978d-b87ac68a95f3",
   "metadata": {},
   "outputs": [
    {
     "data": {
      "text/plain": [
       "(67898907, 'ar34@gmail.com', 2001)"
      ]
     },
     "execution_count": 19,
     "metadata": {},
     "output_type": "execute_result"
    }
   ],
   "source": [
    "arjun.return_student_details()"
   ]
  },
  {
   "cell_type": "code",
   "execution_count": null,
   "id": "32fe31d9-5ddd-47d0-9ff3-2333c762719e",
   "metadata": {},
   "outputs": [],
   "source": [
    "Ans4."
   ]
  },
  {
   "cell_type": "code",
   "execution_count": null,
   "id": "fe37cc3b-fbe6-40ee-8542-3e8bfab4f8a1",
   "metadata": {},
   "outputs": [],
   "source": [
    "self is used in class to bind the function or method which is written inside the class  with the class."
   ]
  },
  {
   "cell_type": "code",
   "execution_count": null,
   "id": "1f72a046-1ebf-4bc0-8d84-59792d17cd79",
   "metadata": {},
   "outputs": [],
   "source": [
    "Ans5."
   ]
  },
  {
   "cell_type": "code",
   "execution_count": null,
   "id": "001f129c-6b02-40b5-b42c-0feff4ad7933",
   "metadata": {},
   "outputs": [],
   "source": [
    "Inheritance is the ability of one class to inherit another class.\n",
    "inheritance provides reusability of code and allow to create us to create complex and real world\n",
    "like relationships among object"
   ]
  },
  {
   "cell_type": "code",
   "execution_count": null,
   "id": "6312f9db-6eb0-42ce-9761-31821e6e3d57",
   "metadata": {},
   "outputs": [],
   "source": [
    "types of inheritance\n",
    "1.single level inheritance\n",
    "2.multiple level inheritance\n",
    "3.multilevel inheritance\n",
    "4.heirarchical inheritance"
   ]
  },
  {
   "cell_type": "code",
   "execution_count": 1,
   "id": "35dee07b-f190-41b4-9fc6-888902f3156a",
   "metadata": {},
   "outputs": [
    {
     "name": "stdout",
     "output_type": "stream",
     "text": [
      "('John', 30)\n"
     ]
    }
   ],
   "source": [
    "#single level\n",
    "class Person:\n",
    "    def __init__(self, name, age):\n",
    "        self.name = name\n",
    "        self.age = age\n",
    "class Professor(Person):\n",
    "    def isProfessor(self):\n",
    "        return self.name,self.age\n",
    "sir = Professor(\"John\", 30)\n",
    "print(sir.isProfessor())"
   ]
  },
  {
   "cell_type": "code",
   "execution_count": 2,
   "id": "7aa0533e-cbdd-4dc8-95a7-7affb03596ab",
   "metadata": {},
   "outputs": [
    {
     "name": "stdout",
     "output_type": "stream",
     "text": [
      "8\n"
     ]
    }
   ],
   "source": [
    "#multilvel\n",
    "class SuperClass1:\n",
    "    num1 = 3\n",
    "class SuperClass2:\n",
    "    num2 = 5\n",
    "class SubClass( SuperClass1, SuperClass2):\n",
    "    def addition(self):\n",
    "        return self.num1 + self.num2\n",
    "obj = SubClass()\n",
    "print(obj.addition())"
   ]
  },
  {
   "cell_type": "code",
   "execution_count": null,
   "id": "5a45ef2a-302d-4d76-9fd0-4b7d08ddaacb",
   "metadata": {},
   "outputs": [],
   "source": [
    "#multiple "
   ]
  }
 ],
 "metadata": {
  "kernelspec": {
   "display_name": "Python 3 (ipykernel)",
   "language": "python",
   "name": "python3"
  },
  "language_info": {
   "codemirror_mode": {
    "name": "ipython",
    "version": 3
   },
   "file_extension": ".py",
   "mimetype": "text/x-python",
   "name": "python",
   "nbconvert_exporter": "python",
   "pygments_lexer": "ipython3",
   "version": "3.10.6"
  }
 },
 "nbformat": 4,
 "nbformat_minor": 5
}
